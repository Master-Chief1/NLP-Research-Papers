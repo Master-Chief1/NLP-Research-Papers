{
 "cells": [
  {
   "cell_type": "code",
   "execution_count": 15,
   "id": "405b5d9a",
   "metadata": {},
   "outputs": [],
   "source": [
    "import pandas as pd\n",
    "import numpy as np\n",
    "from tensorflow.keras.preprocessing.text import Tokenizer\n",
    "from tensorflow.keras.preprocessing.sequence import pad_sequences\n",
    "from tensorflow.keras.models import Sequential\n",
    "from tensorflow.keras.layers import Dense, Embedding, LSTM, Bidirectional, Dropout\n",
    "from sklearn.model_selection import train_test_split"
   ]
  },
  {
   "cell_type": "code",
   "execution_count": 16,
   "id": "4ff1178c",
   "metadata": {},
   "outputs": [],
   "source": [
    "# Load the ISEAR dataset\n",
    "df = pd.read_csv('ISEAR.csv', encoding='latin-1', names=['Emotion', 'Text'])\n",
    "df = df[['Text', 'Emotion']]\n",
    "df = df.dropna()"
   ]
  },
  {
   "cell_type": "code",
   "execution_count": 17,
   "id": "93db5abd",
   "metadata": {},
   "outputs": [],
   "source": [
    "# Tokenize the text data\n",
    "tokenizer = Tokenizer(num_words=5000, oov_token=True)\n",
    "tokenizer.fit_on_texts(df['Text'])\n",
    "\n",
    "# Convert the text data to sequences\n",
    "X = tokenizer.texts_to_sequences(df['Text'])\n",
    "X = pad_sequences(X, padding='post')\n",
    "\n",
    "# Convert the emotion labels to numerical values\n",
    "y = pd.get_dummies(df['Emotion']).values\n",
    "\n",
    "# Split the dataset into training and testing sets\n",
    "X_train, X_test, y_train, y_test = train_test_split(X, y, test_size=0.2, random_state=42)\n"
   ]
  },
  {
   "cell_type": "code",
   "execution_count": 21,
   "id": "21f9b99a",
   "metadata": {},
   "outputs": [],
   "source": [
    "# Define the BiLSTM model architecture\n",
    "model = Sequential()\n",
    "model.add(Embedding(input_dim=len(tokenizer.word_index)+1, output_dim=128, input_length=X.shape[1]))\n",
    "model.add(Bidirectional(LSTM(64, return_sequences=True)))\n",
    "model.add(Bidirectional(LSTM(32)))\n",
    "model.add(Dropout(0.5))\n",
    "model.add(Dense(5, activation='softmax'))"
   ]
  },
  {
   "cell_type": "code",
   "execution_count": 22,
   "id": "e436ce0f",
   "metadata": {},
   "outputs": [],
   "source": [
    "# Compile the model\n",
    "model.compile(loss='categorical_crossentropy', optimizer='adam', metrics=['accuracy'])\n"
   ]
  },
  {
   "cell_type": "code",
   "execution_count": 23,
   "id": "2ea0e6bf",
   "metadata": {},
   "outputs": [
    {
     "name": "stdout",
     "output_type": "stream",
     "text": [
      "Epoch 1/20\n",
      "143/143 [==============================] - 38s 33ms/step - loss: 1.4007 - accuracy: 0.3157 - val_loss: 1.1488 - val_accuracy: 0.5101\n",
      "Epoch 2/20\n",
      "143/143 [==============================] - 3s 24ms/step - loss: 0.6723 - accuracy: 0.7672 - val_loss: 0.5584 - val_accuracy: 0.8179\n",
      "Epoch 3/20\n",
      "143/143 [==============================] - 3s 24ms/step - loss: 0.2646 - accuracy: 0.9276 - val_loss: 0.5113 - val_accuracy: 0.8399\n",
      "Epoch 4/20\n",
      "143/143 [==============================] - 3s 24ms/step - loss: 0.1581 - accuracy: 0.9595 - val_loss: 0.5325 - val_accuracy: 0.8417\n",
      "Epoch 5/20\n",
      "143/143 [==============================] - 3s 24ms/step - loss: 0.1215 - accuracy: 0.9679 - val_loss: 0.5093 - val_accuracy: 0.8540\n",
      "Epoch 6/20\n",
      "143/143 [==============================] - 3s 24ms/step - loss: 0.1060 - accuracy: 0.9716 - val_loss: 0.5451 - val_accuracy: 0.8531\n",
      "Epoch 7/20\n",
      "143/143 [==============================] - 3s 24ms/step - loss: 0.0987 - accuracy: 0.9685 - val_loss: 0.5407 - val_accuracy: 0.8514\n",
      "Epoch 8/20\n",
      "143/143 [==============================] - 5s 38ms/step - loss: 0.0807 - accuracy: 0.9736 - val_loss: 0.7161 - val_accuracy: 0.8434\n",
      "Epoch 9/20\n",
      "143/143 [==============================] - 5s 38ms/step - loss: 0.0686 - accuracy: 0.9756 - val_loss: 0.6513 - val_accuracy: 0.8487\n",
      "Epoch 10/20\n",
      "143/143 [==============================] - 5s 38ms/step - loss: 0.0665 - accuracy: 0.9773 - val_loss: 0.6335 - val_accuracy: 0.8549\n",
      "Epoch 11/20\n",
      "143/143 [==============================] - 6s 39ms/step - loss: 0.0651 - accuracy: 0.9745 - val_loss: 0.6572 - val_accuracy: 0.8443\n",
      "Epoch 12/20\n",
      "143/143 [==============================] - 6s 39ms/step - loss: 0.0631 - accuracy: 0.9738 - val_loss: 0.6883 - val_accuracy: 0.8399\n",
      "Epoch 13/20\n",
      "143/143 [==============================] - 5s 38ms/step - loss: 0.0741 - accuracy: 0.9738 - val_loss: 0.7846 - val_accuracy: 0.8100\n",
      "Epoch 14/20\n",
      "143/143 [==============================] - 5s 37ms/step - loss: 0.0636 - accuracy: 0.9767 - val_loss: 0.7524 - val_accuracy: 0.8391\n",
      "Epoch 15/20\n",
      "143/143 [==============================] - 5s 38ms/step - loss: 0.0611 - accuracy: 0.9749 - val_loss: 0.7335 - val_accuracy: 0.8250\n",
      "Epoch 16/20\n",
      "143/143 [==============================] - 5s 37ms/step - loss: 0.0597 - accuracy: 0.9780 - val_loss: 0.8059 - val_accuracy: 0.8285\n",
      "Epoch 17/20\n",
      "143/143 [==============================] - 5s 38ms/step - loss: 0.0484 - accuracy: 0.9780 - val_loss: 0.7907 - val_accuracy: 0.8241\n",
      "Epoch 18/20\n",
      "143/143 [==============================] - 5s 38ms/step - loss: 0.0409 - accuracy: 0.9780 - val_loss: 0.9309 - val_accuracy: 0.8320\n",
      "Epoch 19/20\n",
      "143/143 [==============================] - 5s 37ms/step - loss: 0.0422 - accuracy: 0.9780 - val_loss: 0.9590 - val_accuracy: 0.8267\n",
      "Epoch 20/20\n",
      "143/143 [==============================] - 6s 39ms/step - loss: 0.0431 - accuracy: 0.9809 - val_loss: 0.9500 - val_accuracy: 0.8294\n"
     ]
    },
    {
     "data": {
      "text/plain": [
       "<keras.callbacks.History at 0x15df9a749d0>"
      ]
     },
     "execution_count": 23,
     "metadata": {},
     "output_type": "execute_result"
    }
   ],
   "source": [
    "# Train the model\n",
    "model.fit(X_train, y_train, epochs=20, batch_size=32, validation_split=0.2)\n"
   ]
  },
  {
   "cell_type": "code",
   "execution_count": 24,
   "id": "9e76da8e",
   "metadata": {},
   "outputs": [
    {
     "name": "stdout",
     "output_type": "stream",
     "text": [
      "Test loss: 0.9536104202270508\n",
      "Test accuracy: 0.8233638405799866\n"
     ]
    }
   ],
   "source": [
    "# Evaluate the model\n",
    "score = model.evaluate(X_test, y_test, verbose=0)\n",
    "print('Test loss:', score[0])\n",
    "print('Test accuracy:', score[1])"
   ]
  },
  {
   "cell_type": "code",
   "execution_count": null,
   "id": "45f67295",
   "metadata": {},
   "outputs": [],
   "source": []
  }
 ],
 "metadata": {
  "kernelspec": {
   "display_name": "Python 3 (ipykernel)",
   "language": "python",
   "name": "python3"
  },
  "language_info": {
   "codemirror_mode": {
    "name": "ipython",
    "version": 3
   },
   "file_extension": ".py",
   "mimetype": "text/x-python",
   "name": "python",
   "nbconvert_exporter": "python",
   "pygments_lexer": "ipython3",
   "version": "3.9.7"
  }
 },
 "nbformat": 4,
 "nbformat_minor": 5
}
