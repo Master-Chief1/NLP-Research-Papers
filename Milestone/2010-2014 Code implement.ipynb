{
 "cells": [
  {
   "cell_type": "code",
   "execution_count": 1,
   "id": "1c2a3e88",
   "metadata": {},
   "outputs": [],
   "source": [
    "import nltk\n",
    "from nltk.corpus import wordnet\n"
   ]
  },
  {
   "cell_type": "code",
   "execution_count": 2,
   "id": "3d9ebc58",
   "metadata": {},
   "outputs": [
    {
     "name": "stderr",
     "output_type": "stream",
     "text": [
      "[nltk_data] Downloading package averaged_perceptron_tagger to\n",
      "[nltk_data]     C:\\Users\\abhis\\AppData\\Roaming\\nltk_data...\n",
      "[nltk_data]   Package averaged_perceptron_tagger is already up-to-\n",
      "[nltk_data]       date!\n",
      "[nltk_data] Downloading package wordnet to\n",
      "[nltk_data]     C:\\Users\\abhis\\AppData\\Roaming\\nltk_data...\n",
      "[nltk_data]   Package wordnet is already up-to-date!\n"
     ]
    },
    {
     "data": {
      "text/plain": [
       "True"
      ]
     },
     "execution_count": 2,
     "metadata": {},
     "output_type": "execute_result"
    }
   ],
   "source": [
    "# download the necessary data if needed\n",
    "nltk.download('averaged_perceptron_tagger')\n",
    "nltk.download('wordnet')"
   ]
  },
  {
   "cell_type": "code",
   "execution_count": 3,
   "id": "58181fcd",
   "metadata": {},
   "outputs": [],
   "source": [
    "# define the text to analyze\n",
    "text = \"I feel so happy and excited to be here with you today.\""
   ]
  },
  {
   "cell_type": "code",
   "execution_count": 4,
   "id": "4bcda159",
   "metadata": {},
   "outputs": [
    {
     "name": "stdout",
     "output_type": "stream",
     "text": [
      "['feel', 'happy', 'excited', 'today']\n"
     ]
    }
   ],
   "source": [
    "# tokenize the text and get the POS tags for each word\n",
    "tokens = nltk.word_tokenize(text)\n",
    "pos_tags = nltk.pos_tag(tokens)\n",
    "\n",
    "# define the NAVA categories\n",
    "nava_categories = ['NN', 'NNS', 'NNP', 'NNPS', 'JJ', 'JJR', 'JJS', 'VB', 'VBD', 'VBG', 'VBN', 'VBP', 'VBZ', 'RB', 'RBR', 'RBS']\n",
    "\n",
    "# filter the words by NAVA categories\n",
    "affect_bearing_words = [word for word, tag in pos_tags if tag in nava_categories]\n",
    "\n",
    "# lemmatize the affect-bearing words\n",
    "lemmatizer = nltk.WordNetLemmatizer()\n",
    "affect_bearing_words = [lemmatizer.lemmatize(word) for word in affect_bearing_words]\n",
    "\n",
    "# remove stopwords and punctuation\n",
    "stopwords = set(nltk.corpus.stopwords.words('english'))\n",
    "affect_bearing_words = [word for word in affect_bearing_words if word not in stopwords and word.isalpha()]\n",
    "\n",
    "# filter out words that are not found in WordNet\n",
    "affect_bearing_words = [word for word in affect_bearing_words if len(wordnet.synsets(word)) > 0]\n",
    "\n",
    "# print the affect-bearing words\n",
    "print(affect_bearing_words)\n"
   ]
  },
  {
   "cell_type": "code",
   "execution_count": 5,
   "id": "ed829a09",
   "metadata": {},
   "outputs": [],
   "source": [
    "from nltk.corpus import sentiwordnet as swn\n",
    "from nltk.corpus import wordnet as wn\n",
    "from nltk.corpus import opinion_lexicon\n"
   ]
  },
  {
   "cell_type": "code",
   "execution_count": 10,
   "id": "101e505e",
   "metadata": {},
   "outputs": [
    {
     "name": "stderr",
     "output_type": "stream",
     "text": [
      "[nltk_data] Downloading package sentiwordnet to\n",
      "[nltk_data]     C:\\Users\\abhis\\AppData\\Roaming\\nltk_data...\n",
      "[nltk_data]   Unzipping corpora\\sentiwordnet.zip.\n"
     ]
    },
    {
     "data": {
      "text/plain": [
       "True"
      ]
     },
     "execution_count": 10,
     "metadata": {},
     "output_type": "execute_result"
    }
   ],
   "source": [
    "import nltk\n",
    "nltk.download('sentiwordnet')"
   ]
  },
  {
   "cell_type": "code",
   "execution_count": 35,
   "id": "4dd4abe6",
   "metadata": {},
   "outputs": [
    {
     "name": "stderr",
     "output_type": "stream",
     "text": [
      "[nltk_data] Downloading package vader_lexicon to\n",
      "[nltk_data]     C:\\Users\\abhis\\AppData\\Roaming\\nltk_data...\n"
     ]
    }
   ],
   "source": [
    "from collections import defaultdict\n",
    "from nltk.sentiment import SentimentIntensityAnalyzer\n",
    "nltk.download('vader_lexicon')\n",
    "sia = SentimentIntensityAnalyzer()"
   ]
  },
  {
   "cell_type": "code",
   "execution_count": 36,
   "id": "f5c7c5da",
   "metadata": {},
   "outputs": [],
   "source": [
    "emotions = [\"anger\", \"anticipation\", \"disgust\", \"fear\", \"joy\", \"sadness\", \"surprise\", \"trust\"]\n",
    "pos_mapping = {\"anger\": wn.NOUN, \"anticipation\": wn.NOUN, \"disgust\": wn.NOUN, \"fear\": wn.NOUN, \"joy\": wn.NOUN, \"sadness\": wn.NOUN, \"surprise\": wn.NOUN, \"trust\": wn.NOUN}\n"
   ]
  },
  {
   "cell_type": "code",
   "execution_count": 40,
   "id": "ccb4c4db",
   "metadata": {},
   "outputs": [],
   "source": [
    "def get_emotion_vector(word):\n",
    "    synsets = wn.synsets(word)\n",
    "    if not synsets:\n",
    "        return None\n",
    "    synset = synsets[0]\n",
    "    emotion_vector = [0] * len(emotions)\n",
    "    scores = sia.polarity_scores(word)\n",
    "    for i, emotion in enumerate(emotions):\n",
    "        if scores['pos'] > scores['neg'] and emotion in ['joy', 'trust', 'anticipation']:\n",
    "            emotion_vector[i] = 1\n",
    "        elif scores['neg'] > scores['pos'] and emotion in ['sadness', 'fear', 'anger', 'disgust']:\n",
    "            emotion_vector[i] = 1\n",
    "    return emotion_vector\n"
   ]
  },
  {
   "cell_type": "code",
   "execution_count": 41,
   "id": "7dbd2c9c",
   "metadata": {},
   "outputs": [
    {
     "name": "stdout",
     "output_type": "stream",
     "text": [
      "Feel vector: [0, 0, 0, 0, 0, 0, 0, 0]\n",
      "Happy vector: [0, 1, 0, 0, 1, 0, 0, 1]\n",
      "Excited vector: [0, 1, 0, 0, 1, 0, 0, 1]\n",
      "Today vector: [0, 0, 0, 0, 0, 0, 0, 0]\n"
     ]
    }
   ],
   "source": [
    "for word in affect_bearing_words:\n",
    "    emotion_vector = get_emotion_vector(word)\n",
    "    if emotion_vector is not None:\n",
    "        print(f\"{word.capitalize()} vector: {emotion_vector}\")"
   ]
  },
  {
   "cell_type": "code",
   "execution_count": null,
   "id": "4743c804",
   "metadata": {},
   "outputs": [],
   "source": []
  }
 ],
 "metadata": {
  "kernelspec": {
   "display_name": "Python 3 (ipykernel)",
   "language": "python",
   "name": "python3"
  },
  "language_info": {
   "codemirror_mode": {
    "name": "ipython",
    "version": 3
   },
   "file_extension": ".py",
   "mimetype": "text/x-python",
   "name": "python",
   "nbconvert_exporter": "python",
   "pygments_lexer": "ipython3",
   "version": "3.9.7"
  }
 },
 "nbformat": 4,
 "nbformat_minor": 5
}
